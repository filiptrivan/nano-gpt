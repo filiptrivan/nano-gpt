{
 "cells": [
  {
   "cell_type": "code",
   "execution_count": null,
   "id": "14415519",
   "metadata": {},
   "outputs": [
    {
     "name": "stdout",
     "output_type": "stream",
     "text": [
      "314937\n"
     ]
    }
   ],
   "source": [
    "import torch\n",
    "\n",
    "with open('../nano-gpt-messages.txt', 'r', encoding='utf-8') as f:\n",
    "    text = f.read()\n",
    "\n",
    "vocab = sorted(set(text))\n",
    "\n",
    "vocab_size = len(vocab)\n",
    "\n",
    "stoi = { ch:i for i,ch in enumerate(vocab) } # dict comperhension eg. A:0\n",
    "itos = { i:ch for i,ch in enumerate(vocab) } # dict comperhension eg. 0:A\n",
    "\n",
    "def encode(input: str):\n",
    "    return [stoi[c] for c in input]\n",
    "\n",
    "def decode(input: list[int]):\n",
    "    return ''.join([itos[i] for i in input])\n",
    "\n",
    "data = torch.tensor(encode(text), dtype=torch.long)\n",
    "n = int(0.9 * (len(data)))\n",
    "train_data = data[:n]\n",
    "val_data = data[n:]\n",
    "\n",
    "print(len(data))\n",
    "\n",
    "import torch.nn as nn\n",
    "n_embd = 8\n",
    "block_size = 4\n",
    "\n",
    "class BigramLanguageModel(nn.Module):\n",
    "    def __init__(self, vocab_size):\n",
    "        self.token_embedding_table = nn.Embedding(vocab_size, n_embd)\n",
    "        self.position_embedding_table = nn.Embedding(block_size, n_embd)\n",
    "    \n",
    "    def forward(self, idx):\n",
    "        B, T = idx.shape\n",
    "\n",
    "        tok_emb = self.token_embedding_table(idx)\n",
    "        pos_emb = self.position_embedding_table(idx)\n",
    "\n",
    "        logits = torch.tensor(T, C) # hocu da za svako slovo dobijem sanse za naredno T, C\n",
    "\n",
    "        loss = \n",
    "\n",
    "        return logits, loss\n",
    "    \n",
    "    def backward():\n",
    "        return\n",
    "    \n",
    "\n",
    "def generate(input: str):\n",
    "    idx = encode(input)\n",
    "    model = BigramLanguageModel(vocab)\n",
    "    return model.forward()\n",
    "\n",
    "\n"
   ]
  }
 ],
 "metadata": {
  "kernelspec": {
   "display_name": "Python 3",
   "language": "python",
   "name": "python3"
  },
  "language_info": {
   "codemirror_mode": {
    "name": "ipython",
    "version": 3
   },
   "file_extension": ".py",
   "mimetype": "text/x-python",
   "name": "python",
   "nbconvert_exporter": "python",
   "pygments_lexer": "ipython3",
   "version": "3.11.3"
  }
 },
 "nbformat": 4,
 "nbformat_minor": 5
}
