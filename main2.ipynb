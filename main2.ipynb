{
 "cells": [
  {
   "cell_type": "code",
   "execution_count": null,
   "id": "14415519",
   "metadata": {},
   "outputs": [
    {
     "name": "stdout",
     "output_type": "stream",
     "text": [
      "314937\n"
     ]
    }
   ],
   "source": [
    "import torch\n",
    "from classes.Head import Head\n",
    "from torch.nn import functional as F\n",
    "\n",
    "with open('../nano-gpt-messages.txt', 'r', encoding='utf-8') as f:\n",
    "    text = f.read()\n",
    "\n",
    "vocab = sorted(set(text))\n",
    "\n",
    "vocab_size = len(vocab)\n",
    "\n",
    "stoi = { ch:i for i,ch in enumerate(vocab) } # dict comperhension eg. A:0\n",
    "itos = { i:ch for i,ch in enumerate(vocab) } # dict comperhension eg. 0:A\n",
    "\n",
    "def encode(input: str):\n",
    "    return [stoi[c] for c in input]\n",
    "\n",
    "def decode(input: list[int]):\n",
    "    return ''.join([itos[i] for i in input])\n",
    "\n",
    "data = torch.tensor(encode(text), dtype=torch.long)\n",
    "n = int(0.9 * (len(data)))\n",
    "train_data = data[:n]\n",
    "val_data = data[n:]\n",
    "\n",
    "print(len(data))\n",
    "\n",
    "import torch.nn as nn\n",
    "n_embd = 8\n",
    "block_size = 4\n",
    "\n",
    "class BigramLanguageModel(nn.Module):\n",
    "    def __init__(self, vocab_size):\n",
    "        self.token_embedding_table = nn.Embedding(vocab_size, n_embd)\n",
    "        self.position_embedding_table = nn.Embedding(block_size, n_embd)\n",
    "        self.sa_head = Head(n_embd, n_embd, block_size)\n",
    "        self.lm_head = nn.Linear(n_embd, vocab_size)\n",
    "    \n",
    "    def forward(self, idx, targets=None):\n",
    "        B, T = idx.shape\n",
    "\n",
    "        tok_emb = self.token_embedding_table(idx)\n",
    "        pos_emb = self.position_embedding_table(idx)\n",
    "        x = tok_emb + pos_emb\n",
    "        x = self.sa_head.forward(x)\n",
    "        logits = self.lm_head.forward(x)\n",
    "\n",
    "        if targets is None:\n",
    "            loss = None\n",
    "        else:\n",
    "            B, T, C = logits.shape\n",
    "            logits = logits.view(B*T, C)\n",
    "            targets = targets.view(B*T)\n",
    "            loss = F.cross_entropy(logits, targets)\n",
    "\n",
    "        return logits, loss\n",
    "    \n",
    "    def generate(self, idx: str, max_new_tokens):\n",
    "        for _ in range(max_new_tokens):\n",
    "            idx_cond = idx[:, -block_size:]\n",
    "            logits, _ = self.forward(idx_cond)\n",
    "            logits = logits[:, -1, :]\n",
    "            probs = F.softmax(logits, dim=-1)\n",
    "            c = torch.multinomial(probs, num_samples=1)\n",
    "            idx.conc(idx, c)\n",
    "\n",
    "        return idx\n",
    "\n",
    "\n"
   ]
  }
 ],
 "metadata": {
  "kernelspec": {
   "display_name": "Python 3",
   "language": "python",
   "name": "python3"
  },
  "language_info": {
   "codemirror_mode": {
    "name": "ipython",
    "version": 3
   },
   "file_extension": ".py",
   "mimetype": "text/x-python",
   "name": "python",
   "nbconvert_exporter": "python",
   "pygments_lexer": "ipython3",
   "version": "3.11.3"
  }
 },
 "nbformat": 4,
 "nbformat_minor": 5
}
