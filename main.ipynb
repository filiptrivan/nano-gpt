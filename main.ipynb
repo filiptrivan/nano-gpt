{
 "cells": [
  {
   "cell_type": "code",
   "execution_count": 1,
   "id": "9495e5b2",
   "metadata": {},
   "outputs": [
    {
     "name": "stdout",
     "output_type": "stream",
     "text": [
      "\t\n",
      " !\"#%&'()*+,-./0123456789:<=>?@ABCDEFGHIJKLMNOPQRSTUVWXYZ[\\]_abcdefghijklmnopqrstuvwxyz{}ĆćčđŠšžНУабвгдезиклмнопрстухчшђјњћ…⁠✋❤﻿🏻🏼🏽👋👌👍👽💪😀😂😃😍😟🙂🙌🙏🤑🤘🤙🤝🤢🤣🤮🥰🥷🥹🧠🫂🫶\n",
      "159\n",
      "Step 0: train loss 5.1892, val loss 5.1862\n",
      "Step 1000: train loss 2.0882, val loss 2.2481\n",
      "Step 2000: train loss 2.0847, val loss 2.2168\n",
      "Step 3000: train loss 2.0919, val loss 2.2292\n",
      "Step 4000: train loss 2.0747, val loss 2.2170\n",
      "Step 5000: train loss 2.0855, val loss 2.2350\n",
      "Step 6000: train loss 2.0789, val loss 2.2306\n",
      "Step 7000: train loss 2.0955, val loss 2.2503\n",
      "Step 8000: train loss 2.0774, val loss 2.2148\n",
      "Step 9000: train loss 2.0745, val loss 2.2153\n"
     ]
    }
   ],
   "source": [
    "import utils"
   ]
  },
  {
   "cell_type": "code",
   "execution_count": 2,
   "id": "f1fa2f11",
   "metadata": {},
   "outputs": [
    {
     "name": "stdout",
     "output_type": "stream",
     "text": [
      "de si sta radisa stori p n: 1/24/208/217/4 ta 4 d n:3 ha p un: u\n",
      "[10202023 dan e ra Fizn:1024110286 b 2023 koo Fiva\n"
     ]
    }
   ],
   "source": [
    "utils.intuition_test('de si sta radis')"
   ]
  }
 ],
 "metadata": {
  "kernelspec": {
   "display_name": "Python 3",
   "language": "python",
   "name": "python3"
  },
  "language_info": {
   "codemirror_mode": {
    "name": "ipython",
    "version": 3
   },
   "file_extension": ".py",
   "mimetype": "text/x-python",
   "name": "python",
   "nbconvert_exporter": "python",
   "pygments_lexer": "ipython3",
   "version": "3.11.3"
  }
 },
 "nbformat": 4,
 "nbformat_minor": 5
}
