{
 "cells": [
  {
   "cell_type": "code",
   "execution_count": 5,
   "id": "6ce7cfac",
   "metadata": {},
   "outputs": [
    {
     "name": "stdout",
     "output_type": "stream",
     "text": [
      " ,.014:?BDGHKPRSacdhiklnoprstuv\n",
      "31\n",
      "[13, 26, 24, 18, 16, 30, 16, 17, 6, 0, 13, 24, 27, 28, 24, 30, 16, 23, 20]\n",
      "Prodavac: Postovani\n"
     ]
    }
   ],
   "source": [
    "text = 'Kupac: Koliko kosta Bosch GBH 141? Prodavac: Postovani, Bosch GBH 141 kosta 10000 RSD.'\n",
    "chars = sorted(set(text))\n",
    "vocab_size = len(chars)\n",
    "print(''.join(chars))\n",
    "print(vocab_size)\n",
    "\n",
    "stoi = { ch:i for i,ch in enumerate(chars) } # dict comperhension eg. A:0\n",
    "itos = { i:ch for i,ch in enumerate(chars) } # dict comperhension eg. 0:A\n",
    "\n",
    "def encode(chars):\n",
    "    return [stoi[c] for c in chars]\n",
    "\n",
    "def decode(chars):\n",
    "    return ''.join([itos[i] for i in chars])\n",
    "\n",
    "encoded = encode('Prodavac: Postovani')\n",
    "decoded = decode(encoded)\n",
    "print(encoded)\n",
    "print(decoded)"
   ]
  },
  {
   "cell_type": "code",
   "execution_count": 10,
   "id": "e227b2d8",
   "metadata": {},
   "outputs": [
    {
     "name": "stdout",
     "output_type": "stream",
     "text": [
      "torch.Size([86]) torch.int64\n",
      "tensor([12, 29, 25, 16, 17,  6,  0, 12, 24, 22, 20, 21, 24,  0, 21, 24, 27, 28,\n",
      "        16,  0,  8, 24, 27, 17, 19,  0, 10,  8, 11,  0,  4,  5,  4,  7,  0, 13,\n",
      "        26, 24, 18, 16, 30, 16, 17,  6,  0, 13, 24, 27, 28, 24, 30, 16, 23, 20,\n",
      "         1,  0,  8, 24, 27, 17, 19,  0, 10,  8, 11,  0,  4,  5,  4,  0, 21, 24,\n",
      "        27, 28, 16,  0,  4,  3,  3,  3,  3,  0, 14, 15,  9,  2])\n"
     ]
    }
   ],
   "source": [
    "import torch\n",
    "\n",
    "data = torch.tensor(encode(text), dtype=torch.long)\n",
    "print(data.shape, data.dtype)\n",
    "print(data)"
   ]
  },
  {
   "cell_type": "code",
   "execution_count": 12,
   "id": "d14c7662",
   "metadata": {},
   "outputs": [],
   "source": [
    "n = int(0.9 * (len(data)))\n",
    "train_data = data[:n]\n",
    "val_data = data[n:]"
   ]
  },
  {
   "cell_type": "code",
   "execution_count": null,
   "id": "0dce3973",
   "metadata": {},
   "outputs": [],
   "source": []
  }
 ],
 "metadata": {
  "kernelspec": {
   "display_name": "Python 3",
   "language": "python",
   "name": "python3"
  },
  "language_info": {
   "codemirror_mode": {
    "name": "ipython",
    "version": 3
   },
   "file_extension": ".py",
   "mimetype": "text/x-python",
   "name": "python",
   "nbconvert_exporter": "python",
   "pygments_lexer": "ipython3",
   "version": "3.11.3"
  }
 },
 "nbformat": 4,
 "nbformat_minor": 5
}
