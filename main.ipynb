{
 "cells": [
  {
   "cell_type": "code",
   "execution_count": null,
   "id": "e227b2d8",
   "metadata": {},
   "outputs": [
    {
     "name": "stdout",
     "output_type": "stream",
     "text": [
      "torch.Size([314937]) torch.int64\n",
      "tensor([59, 21, 16,  ..., 72, 77, 73])\n"
     ]
    }
   ],
   "source": [
    "import torch\n",
    "\n",
    "data = torch.tensor(encode(text), dtype=torch.long)"
   ]
  },
  {
   "cell_type": "code",
   "execution_count": 3,
   "id": "d14c7662",
   "metadata": {},
   "outputs": [],
   "source": [
    "n = int(0.9 * (len(data)))\n",
    "train_data = data[:n]\n",
    "val_data = data[n:]"
   ]
  },
  {
   "cell_type": "code",
   "execution_count": 4,
   "id": "0dce3973",
   "metadata": {},
   "outputs": [
    {
     "data": {
      "text/plain": [
       "tensor([59, 21, 16, 24, 16, 19, 17, 19, 22,  2, 18])"
      ]
     },
     "execution_count": 4,
     "metadata": {},
     "output_type": "execute_result"
    }
   ],
   "source": [
    "# FT: Context length, length of the chunk of the text for the training, if we would use all text at once, it would be computationaly expensive\n",
    "# FT: It's important to do because we want to train our network for small texts also (eg. one char), not just because of perf\n",
    "block_size = 10\n",
    "train_data[:block_size+1]"
   ]
  },
  {
   "cell_type": "code",
   "execution_count": 5,
   "id": "4465cb38",
   "metadata": {},
   "outputs": [
    {
     "name": "stdout",
     "output_type": "stream",
     "text": [
      "When input is tensor([59]) the target is 21\n",
      "When input is tensor([59, 21]) the target is 16\n",
      "When input is tensor([59, 21, 16]) the target is 24\n",
      "When input is tensor([59, 21, 16, 24]) the target is 16\n",
      "When input is tensor([59, 21, 16, 24, 16]) the target is 19\n",
      "When input is tensor([59, 21, 16, 24, 16, 19]) the target is 17\n",
      "When input is tensor([59, 21, 16, 24, 16, 19, 17]) the target is 19\n",
      "When input is tensor([59, 21, 16, 24, 16, 19, 17, 19]) the target is 22\n",
      "When input is tensor([59, 21, 16, 24, 16, 19, 17, 19, 22]) the target is 2\n",
      "When input is tensor([59, 21, 16, 24, 16, 19, 17, 19, 22,  2]) the target is 18\n"
     ]
    }
   ],
   "source": [
    "x = train_data[:block_size]\n",
    "y = train_data[1:block_size + 1]\n",
    "for t in range(block_size):\n",
    "    context = x[:t + 1]\n",
    "    target = y[t]\n",
    "    print(f'When input is {context} the target is {target}')"
   ]
  },
  {
   "cell_type": "code",
   "execution_count": 6,
   "id": "b37c1e14",
   "metadata": {},
   "outputs": [
    {
     "name": "stdout",
     "output_type": "stream",
     "text": [
      "When input is [72] the target is 67\n",
      "When input is [72, 67] the target is 2\n",
      "When input is [72, 67, 2] the target is 81\n",
      "When input is [72, 67, 2, 81] the target is 84\n",
      "When input is [72, 67, 2, 81, 84] the target is 67\n",
      "When input is [72, 67, 2, 81, 84, 67] the target is 2\n",
      "When input is [72, 67, 2, 81, 84, 67, 2] the target is 73\n",
      "When input is [72, 67, 2, 81, 84, 67, 2, 73] the target is 77\n",
      "When input is [76] the target is 63\n",
      "When input is [76, 63] the target is 2\n",
      "When input is [76, 63, 2] the target is 68\n",
      "When input is [76, 63, 2, 68] the target is 77\n",
      "When input is [76, 63, 2, 68, 77] the target is 76\n",
      "When input is [76, 63, 2, 68, 77, 76] the target is 1\n",
      "When input is [76, 63, 2, 68, 77, 76, 1] the target is 59\n",
      "When input is [76, 63, 2, 68, 77, 76, 1, 59] the target is 18\n",
      "When input is [73] the target is 81\n",
      "When input is [73, 81] the target is 63\n",
      "When input is [73, 81, 63] the target is 2\n",
      "When input is [73, 81, 63, 2] the target is 52\n",
      "When input is [73, 81, 63, 2, 52] the target is 80\n",
      "When input is [73, 81, 63, 2, 52, 80] the target is 71\n",
      "When input is [73, 81, 63, 2, 52, 80, 71] the target is 84\n",
      "When input is [73, 81, 63, 2, 52, 80, 71, 84] the target is 63\n",
      "When input is [22] the target is 21\n",
      "When input is [22, 21] the target is 2\n",
      "When input is [22, 21, 2] the target is 48\n",
      "When input is [22, 21, 2, 48] the target is 45\n",
      "When input is [22, 21, 2, 48, 45] the target is 61\n",
      "When input is [22, 21, 2, 48, 45, 61] the target is 2\n",
      "When input is [22, 21, 2, 48, 45, 61, 2] the target is 33\n",
      "When input is [22, 21, 2, 48, 45, 61, 2, 33] the target is 74\n"
     ]
    }
   ],
   "source": [
    "# Making batches for context blocks, storing multiple blocks inside one tensor, because perf, making GPUs busy\n",
    "torch.manual_seed(1111)\n",
    "batch_size = 4 # How many independent sequences will we process in parallel?\n",
    "block_size = 8 # What is the maximum context length for predictions?\n",
    "\n",
    "def get_batch(split):\n",
    "    data = train_data if split == 'train' else val_data\n",
    "    ix = torch.randint(0, len(data) - block_size, (batch_size,)) # 4 element array\n",
    "    # [4, 5, 1, 10]\n",
    "    x = torch.stack([data[i:i + block_size] for i in ix]) # [data[4:12], data[5:13]...]\n",
    "    y = torch.stack([data[i + 1:i + block_size + 1] for i in ix]) # [data[5:13], data[6,14]...]\n",
    "    return x, y\n",
    "\n",
    "xb, yb = get_batch('train')\n",
    "\n",
    "for b in range(batch_size):\n",
    "    for t in range(block_size):\n",
    "        context = xb[b, :t+1]\n",
    "        target = yb[b, t]\n",
    "        print(f'When input is {context.tolist()} the target is {target}')\n"
   ]
  },
  {
   "cell_type": "code",
   "execution_count": 7,
   "id": "93682842",
   "metadata": {},
   "outputs": [
    {
     "name": "stdout",
     "output_type": "stream",
     "text": [
      "tensor([[72, 67,  2, 81, 84, 67,  2, 73],\n",
      "        [76, 63,  2, 68, 77, 76,  1, 59],\n",
      "        [73, 81, 63,  2, 52, 80, 71, 84],\n",
      "        [22, 21,  2, 48, 45, 61,  2, 33]])\n",
      "tensor([[67,  2, 81, 84, 67,  2, 73, 77],\n",
      "        [63,  2, 68, 77, 76,  1, 59, 18],\n",
      "        [81, 63,  2, 52, 80, 71, 84, 63],\n",
      "        [21,  2, 48, 45, 61,  2, 33, 74]])\n"
     ]
    }
   ],
   "source": [
    "print(xb)\n",
    "print(yb)"
   ]
  },
  {
   "cell_type": "code",
   "execution_count": 8,
   "id": "8cc7391e",
   "metadata": {},
   "outputs": [
    {
     "name": "stdout",
     "output_type": "stream",
     "text": [
      "torch.Size([32, 159])\n",
      "tensor(5.3450, grad_fn=<NllLossBackward0>)\n"
     ]
    }
   ],
   "source": [
    "# Simplest biagram language model, working only on the 2 chars at the time, looking at one and trying to predict next\n",
    "# Bigram is the (char1, char2) tuple\n",
    "from classes.BigramLanguageModel import BigramLanguageModel\n",
    "\n",
    "model = BigramLanguageModel(vocab_size)\n",
    "logits, loss = model.forward(xb, yb)\n",
    "print(logits.shape)\n",
    "print(loss)"
   ]
  },
  {
   "cell_type": "code",
   "execution_count": null,
   "id": "09f35d14",
   "metadata": {},
   "outputs": [
    {
     "name": "stdout",
     "output_type": "stream",
     "text": [
      "tensor([[67,  2, 64, 80, 63, 82, 67]])\n",
      "torch.Size([1, 37])\n",
      "e brate🥹2š✋3њ🤣њĆX😍🤝5вyOZ0😀Fк👍❤м*лw😍2š\n"
     ]
    }
   ],
   "source": [
    "prompt_ids = encode('e brate')\n",
    "context = torch.tensor(\n",
    "    [prompt_ids],\n",
    "    dtype=torch.long\n",
    ")\n",
    "prediction = model.generate(context, 30)\n",
    "print(decode(prediction[0].tolist()))"
   ]
  },
  {
   "cell_type": "code",
   "execution_count": null,
   "id": "7dbbfd3e",
   "metadata": {},
   "outputs": [
    {
     "name": "stdout",
     "output_type": "stream",
     "text": [
      "2.018098831176758\n",
      "2.21431565284729\n",
      "2.0775020122528076\n",
      "2.1575984954833984\n",
      "1.9534363746643066\n",
      "2.0726282596588135\n",
      "2.297912120819092\n",
      "2.4960439205169678\n",
      "2.0833330154418945\n",
      "2.1392390727996826\n",
      "2.2052831649780273\n",
      "2.2020103931427\n",
      "1.9181740283966064\n",
      "2.2327539920806885\n",
      "2.0558528900146484\n",
      "2.1309473514556885\n",
      "2.194337844848633\n",
      "2.072873115539551\n",
      "2.172433376312256\n",
      "2.106092929840088\n",
      "2.2093262672424316\n",
      "2.28464937210083\n",
      "2.3201231956481934\n",
      "2.0127007961273193\n",
      "2.2236480712890625\n",
      "2.030179977416992\n",
      "1.8751254081726074\n",
      "2.1253509521484375\n",
      "2.373624086380005\n",
      "2.3188934326171875\n",
      "2.116074323654175\n",
      "2.0170481204986572\n",
      "2.4597511291503906\n",
      "2.252742290496826\n",
      "1.9551255702972412\n",
      "2.292646884918213\n",
      "2.0085737705230713\n",
      "1.9547629356384277\n",
      "2.1476359367370605\n",
      "2.12552547454834\n",
      "2.2439870834350586\n",
      "2.06255841255188\n",
      "2.202749252319336\n",
      "2.1941516399383545\n",
      "2.0588877201080322\n",
      "2.068826675415039\n",
      "2.1794629096984863\n",
      "2.340195894241333\n",
      "2.2345762252807617\n",
      "2.2233266830444336\n",
      "1.9820386171340942\n",
      "2.2657017707824707\n",
      "1.9370473623275757\n",
      "2.2795801162719727\n",
      "2.167745351791382\n",
      "2.082064628601074\n",
      "2.21079421043396\n",
      "2.0474390983581543\n",
      "2.3064372539520264\n",
      "1.8360687494277954\n",
      "1.9952954053878784\n",
      "2.0376672744750977\n",
      "1.896019697189331\n",
      "1.9235317707061768\n",
      "2.0013818740844727\n",
      "1.9306567907333374\n",
      "2.238233804702759\n",
      "2.027097463607788\n",
      "2.2723681926727295\n",
      "1.9523100852966309\n",
      "2.1929309368133545\n",
      "2.0062429904937744\n",
      "2.0478832721710205\n",
      "2.2077243328094482\n",
      "2.29655385017395\n",
      "2.0110485553741455\n",
      "2.105027437210083\n",
      "2.2594432830810547\n",
      "1.9499974250793457\n",
      "2.0048916339874268\n",
      "2.178406238555908\n",
      "2.1080384254455566\n",
      "1.9111485481262207\n",
      "2.1296372413635254\n",
      "1.8597122430801392\n",
      "2.1557583808898926\n",
      "2.1922197341918945\n",
      "2.259031295776367\n",
      "1.9528957605361938\n",
      "2.240859270095825\n",
      "2.1142778396606445\n",
      "2.136608839035034\n",
      "2.0225822925567627\n",
      "2.241947889328003\n",
      "2.143472194671631\n",
      "2.18074631690979\n",
      "2.182675361633301\n",
      "2.2632408142089844\n",
      "2.0526065826416016\n",
      "2.043966293334961\n"
     ]
    }
   ],
   "source": [
    "optimizer = torch.optim.AdamW(model.parameters(), lr=1e-3)\n",
    "batch_size = 32\n",
    "for epoch in range(10000):\n",
    "    xb, yb = get_batch('train')\n",
    "    logits, loss = model.forward(xb, yb)\n",
    "    optimizer.zero_grad(set_to_none=True)\n",
    "    loss.backward()\n",
    "    optimizer.step()\n",
    "    if(epoch % 100 == 0):\n",
    "        print(loss.item())"
   ]
  },
  {
   "cell_type": "code",
   "execution_count": 29,
   "id": "9495e5b2",
   "metadata": {},
   "outputs": [
    {
     "name": "stdout",
     "output_type": "stream",
     "text": [
      "tensor([[67,  2, 64, 80, 63, 82, 67]])\n",
      "e bratenipri\n",
      "[1/1E ko ksalovan\n",
      "[4 tova sebr\n",
      "[4 dasekoviman:110/8 bri m si Alipo n:11 s:14/2020202:02 n sile\n"
     ]
    }
   ],
   "source": [
    "prompt_ids = encode('e brate')\n",
    "context = torch.tensor(\n",
    "    [prompt_ids],\n",
    "    dtype=torch.long\n",
    ")\n",
    "prediction = model.generate(context, 100)\n",
    "print(decode(prediction[0].tolist()))"
   ]
  }
 ],
 "metadata": {
  "kernelspec": {
   "display_name": "Python 3",
   "language": "python",
   "name": "python3"
  },
  "language_info": {
   "codemirror_mode": {
    "name": "ipython",
    "version": 3
   },
   "file_extension": ".py",
   "mimetype": "text/x-python",
   "name": "python",
   "nbconvert_exporter": "python",
   "pygments_lexer": "ipython3",
   "version": "3.11.3"
  }
 },
 "nbformat": 4,
 "nbformat_minor": 5
}
