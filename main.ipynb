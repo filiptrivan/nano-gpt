{
 "cells": [
  {
   "cell_type": "code",
   "execution_count": 1,
   "id": "6ce7cfac",
   "metadata": {},
   "outputs": [
    {
     "name": "stdout",
     "output_type": "stream",
     "text": [
      " ,.014:?BDGHKPRSacdhiklnoprstuv\n",
      "31\n",
      "[13, 26, 24, 18, 16, 30, 16, 17, 6, 0, 13, 24, 27, 28, 24, 30, 16, 23, 20]\n",
      "Prodavac: Postovani\n"
     ]
    }
   ],
   "source": [
    "text = 'Kupac: Koliko kosta Bosch GBH 141? Prodavac: Postovani, Bosch GBH 141 kosta 10000 RSD.'\n",
    "chars = sorted(set(text))\n",
    "vocab_size = len(chars)\n",
    "print(''.join(chars))\n",
    "print(vocab_size)\n",
    "\n",
    "stoi = { ch:i for i,ch in enumerate(chars) } # dict comperhension eg. A:0\n",
    "itos = { i:ch for i,ch in enumerate(chars) } # dict comperhension eg. 0:A\n",
    "\n",
    "def encode(chars):\n",
    "    return [stoi[c] for c in chars]\n",
    "\n",
    "def decode(chars):\n",
    "    return ''.join([itos[i] for i in chars])\n",
    "\n",
    "encoded = encode('Prodavac: Postovani')\n",
    "decoded = decode(encoded)\n",
    "print(encoded)\n",
    "print(decoded)"
   ]
  },
  {
   "cell_type": "code",
   "execution_count": 2,
   "id": "e227b2d8",
   "metadata": {},
   "outputs": [
    {
     "name": "stdout",
     "output_type": "stream",
     "text": [
      "torch.Size([86]) torch.int64\n",
      "tensor([12, 29, 25, 16, 17,  6,  0, 12, 24, 22, 20, 21, 24,  0, 21, 24, 27, 28,\n",
      "        16,  0,  8, 24, 27, 17, 19,  0, 10,  8, 11,  0,  4,  5,  4,  7,  0, 13,\n",
      "        26, 24, 18, 16, 30, 16, 17,  6,  0, 13, 24, 27, 28, 24, 30, 16, 23, 20,\n",
      "         1,  0,  8, 24, 27, 17, 19,  0, 10,  8, 11,  0,  4,  5,  4,  0, 21, 24,\n",
      "        27, 28, 16,  0,  4,  3,  3,  3,  3,  0, 14, 15,  9,  2])\n"
     ]
    }
   ],
   "source": [
    "import torch\n",
    "\n",
    "data = torch.tensor(encode(text), dtype=torch.long)\n",
    "print(data.shape, data.dtype)\n",
    "print(data)"
   ]
  },
  {
   "cell_type": "code",
   "execution_count": 3,
   "id": "d14c7662",
   "metadata": {},
   "outputs": [],
   "source": [
    "n = int(0.9 * (len(data)))\n",
    "train_data = data[:n]\n",
    "val_data = data[n:]"
   ]
  },
  {
   "cell_type": "code",
   "execution_count": 4,
   "id": "0dce3973",
   "metadata": {},
   "outputs": [
    {
     "data": {
      "text/plain": [
       "tensor([12, 29, 25, 16, 17,  6,  0, 12, 24, 22, 20])"
      ]
     },
     "execution_count": 4,
     "metadata": {},
     "output_type": "execute_result"
    }
   ],
   "source": [
    "# FT: Context length, length of the chunk of the text for the training, if we would use all text at once, it would be computationaly expensive\n",
    "# FT: It's important to do because we want to train our network for small texts also (eg. one char), not just because of perf\n",
    "block_size = 10\n",
    "train_data[:block_size+1]"
   ]
  },
  {
   "cell_type": "code",
   "execution_count": 5,
   "id": "4465cb38",
   "metadata": {},
   "outputs": [
    {
     "name": "stdout",
     "output_type": "stream",
     "text": [
      "When input is tensor([12]) the target is 29\n",
      "When input is tensor([12, 29]) the target is 25\n",
      "When input is tensor([12, 29, 25]) the target is 16\n",
      "When input is tensor([12, 29, 25, 16]) the target is 17\n",
      "When input is tensor([12, 29, 25, 16, 17]) the target is 6\n",
      "When input is tensor([12, 29, 25, 16, 17,  6]) the target is 0\n",
      "When input is tensor([12, 29, 25, 16, 17,  6,  0]) the target is 12\n",
      "When input is tensor([12, 29, 25, 16, 17,  6,  0, 12]) the target is 24\n",
      "When input is tensor([12, 29, 25, 16, 17,  6,  0, 12, 24]) the target is 22\n",
      "When input is tensor([12, 29, 25, 16, 17,  6,  0, 12, 24, 22]) the target is 20\n"
     ]
    }
   ],
   "source": [
    "x = train_data[:block_size]\n",
    "y = train_data[1:block_size + 1]\n",
    "for t in range(block_size):\n",
    "    context = x[:t + 1]\n",
    "    target = y[t]\n",
    "    print(f'When input is {context} the target is {target}')"
   ]
  },
  {
   "cell_type": "code",
   "execution_count": 6,
   "id": "b37c1e14",
   "metadata": {},
   "outputs": [
    {
     "name": "stdout",
     "output_type": "stream",
     "text": [
      "When input is [10] the target is 8\n",
      "When input is [10, 8] the target is 11\n",
      "When input is [10, 8, 11] the target is 0\n",
      "When input is [10, 8, 11, 0] the target is 4\n",
      "When input is [10, 8, 11, 0, 4] the target is 5\n",
      "When input is [10, 8, 11, 0, 4, 5] the target is 4\n",
      "When input is [10, 8, 11, 0, 4, 5, 4] the target is 7\n",
      "When input is [10, 8, 11, 0, 4, 5, 4, 7] the target is 0\n",
      "When input is [5] the target is 4\n",
      "When input is [5, 4] the target is 0\n",
      "When input is [5, 4, 0] the target is 21\n",
      "When input is [5, 4, 0, 21] the target is 24\n",
      "When input is [5, 4, 0, 21, 24] the target is 27\n",
      "When input is [5, 4, 0, 21, 24, 27] the target is 28\n",
      "When input is [5, 4, 0, 21, 24, 27, 28] the target is 16\n",
      "When input is [5, 4, 0, 21, 24, 27, 28, 16] the target is 0\n",
      "When input is [13] the target is 26\n",
      "When input is [13, 26] the target is 24\n",
      "When input is [13, 26, 24] the target is 18\n",
      "When input is [13, 26, 24, 18] the target is 16\n",
      "When input is [13, 26, 24, 18, 16] the target is 30\n",
      "When input is [13, 26, 24, 18, 16, 30] the target is 16\n",
      "When input is [13, 26, 24, 18, 16, 30, 16] the target is 17\n",
      "When input is [13, 26, 24, 18, 16, 30, 16, 17] the target is 6\n",
      "When input is [24] the target is 27\n",
      "When input is [24, 27] the target is 17\n",
      "When input is [24, 27, 17] the target is 19\n",
      "When input is [24, 27, 17, 19] the target is 0\n",
      "When input is [24, 27, 17, 19, 0] the target is 10\n",
      "When input is [24, 27, 17, 19, 0, 10] the target is 8\n",
      "When input is [24, 27, 17, 19, 0, 10, 8] the target is 11\n",
      "When input is [24, 27, 17, 19, 0, 10, 8, 11] the target is 0\n"
     ]
    }
   ],
   "source": [
    "# Making batches for context blocks, storing multiple blocks inside one tensor, because perf, making GPUs busy\n",
    "torch.manual_seed(1111)\n",
    "batch_size = 4 # How many independent sequences will we process in parallel?\n",
    "block_size = 8 # What is the maximum context length for predictions?\n",
    "\n",
    "def get_batch(split):\n",
    "    data = train_data if split == 'train' else val_data\n",
    "    ix = torch.randint(0, len(data) - block_size, (batch_size,)) # 4 element array\n",
    "    # [4, 5, 1, 10]\n",
    "    x = torch.stack([data[i:i + block_size] for i in ix]) # [data[4:12], data[5:13]...]\n",
    "    y = torch.stack([data[i + 1:i + block_size + 1] for i in ix]) # [data[5:13], data[6,14]...]\n",
    "    return x, y\n",
    "\n",
    "xb, yb = get_batch('train')\n",
    "\n",
    "for b in range(batch_size):\n",
    "    for t in range(block_size):\n",
    "        context = xb[b, :t+1]\n",
    "        target = yb[b, t]\n",
    "        print(f'When input is {context.tolist()} the target is {target}')\n"
   ]
  },
  {
   "cell_type": "code",
   "execution_count": 7,
   "id": "93682842",
   "metadata": {},
   "outputs": [
    {
     "name": "stdout",
     "output_type": "stream",
     "text": [
      "tensor([[10,  8, 11,  0,  4,  5,  4,  7],\n",
      "        [ 5,  4,  0, 21, 24, 27, 28, 16],\n",
      "        [13, 26, 24, 18, 16, 30, 16, 17],\n",
      "        [24, 27, 17, 19,  0, 10,  8, 11]])\n",
      "tensor([[ 8, 11,  0,  4,  5,  4,  7,  0],\n",
      "        [ 4,  0, 21, 24, 27, 28, 16,  0],\n",
      "        [26, 24, 18, 16, 30, 16, 17,  6],\n",
      "        [27, 17, 19,  0, 10,  8, 11,  0]])\n"
     ]
    }
   ],
   "source": [
    "print(xb)\n",
    "print(yb)"
   ]
  },
  {
   "cell_type": "code",
   "execution_count": 8,
   "id": "8cc7391e",
   "metadata": {},
   "outputs": [
    {
     "name": "stdout",
     "output_type": "stream",
     "text": [
      "torch.Size([32, 31])\n",
      "tensor(3.7138, grad_fn=<NllLossBackward0>)\n"
     ]
    }
   ],
   "source": [
    "# Simplest biagram language model, working only on the 2 chars at the time, looking at one and trying to predict next\n",
    "# Bigram is the (char1, char2) tuple\n",
    "from classes.BigramLanguageModel import BigramLanguageModel\n",
    "\n",
    "model = BigramLanguageModel(vocab_size)\n",
    "logits, loss = model.forward(xb, yb)\n",
    "print(logits.shape)\n",
    "print(loss)"
   ]
  },
  {
   "cell_type": "code",
   "execution_count": 14,
   "id": "09f35d14",
   "metadata": {},
   "outputs": [
    {
     "name": "stdout",
     "output_type": "stream",
     "text": [
      "torch.Size([4, 38])\n",
      "GBH 141?B,lHHp,s.HRki. uiScd4PGaauiPrd\n"
     ]
    }
   ],
   "source": [
    "prediction = model.generate(xb, 30)\n",
    "print(prediction.shape)\n",
    "print(decode(prediction[0].tolist()))"
   ]
  },
  {
   "cell_type": "code",
   "execution_count": null,
   "id": "a162d421",
   "metadata": {},
   "outputs": [],
   "source": []
  }
 ],
 "metadata": {
  "kernelspec": {
   "display_name": "Python 3",
   "language": "python",
   "name": "python3"
  },
  "language_info": {
   "codemirror_mode": {
    "name": "ipython",
    "version": 3
   },
   "file_extension": ".py",
   "mimetype": "text/x-python",
   "name": "python",
   "nbconvert_exporter": "python",
   "pygments_lexer": "ipython3",
   "version": "3.11.3"
  }
 },
 "nbformat": 4,
 "nbformat_minor": 5
}
