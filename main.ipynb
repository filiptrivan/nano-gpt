{
 "cells": [
  {
   "cell_type": "code",
   "execution_count": 1,
   "id": "9495e5b2",
   "metadata": {},
   "outputs": [
    {
     "name": "stdout",
     "output_type": "stream",
     "text": [
      "\t\n",
      " !\"#%&'()*+,-./0123456789:<=>?@ABCDEFGHIJKLMNOPQRSTUVWXYZ[\\]_abcdefghijklmnopqrstuvwxyz{}ĆćčđŠšžНУабвгдезиклмнопрстухчшђјњћ…⁠✋❤﻿🏻🏼🏽👋👌👍👽💪😀😂😃😍😟🙂🙌🙏🤑🤘🤙🤝🤢🤣🤮🥰🥷🥹🧠🫂🫶\n",
      "159\n",
      "Step 0: train loss 5.5599, val loss 5.5486\n",
      "Step 1000: train loss 4.2775, val loss 4.2967\n",
      "Step 2000: train loss 3.3423, val loss 3.4014\n",
      "Step 3000: train loss 2.7434, val loss 2.8484\n",
      "Step 4000: train loss 2.4238, val loss 2.5454\n",
      "Step 5000: train loss 2.2727, val loss 2.4024\n",
      "Step 6000: train loss 2.1916, val loss 2.3212\n",
      "Step 7000: train loss 2.1470, val loss 2.2895\n",
      "Step 8000: train loss 2.1150, val loss 2.2614\n",
      "Step 9000: train loss 2.1398, val loss 2.2525\n"
     ]
    }
   ],
   "source": [
    "import utils"
   ]
  },
  {
   "cell_type": "code",
   "execution_count": 1,
   "id": "f1fa2f11",
   "metadata": {},
   "outputs": [
    {
     "ename": "NameError",
     "evalue": "name 'utils' is not defined",
     "output_type": "error",
     "traceback": [
      "\u001b[1;31m---------------------------------------------------------------------------\u001b[0m",
      "\u001b[1;31mNameError\u001b[0m                                 Traceback (most recent call last)",
      "Cell \u001b[1;32mIn[1], line 1\u001b[0m\n\u001b[1;32m----> 1\u001b[0m \u001b[43mutils\u001b[49m\u001b[38;5;241m.\u001b[39mintuition_test(\u001b[38;5;124m'\u001b[39m\u001b[38;5;124mtrivan\u001b[39m\u001b[38;5;124m'\u001b[39m)\n",
      "\u001b[1;31mNameError\u001b[0m: name 'utils' is not defined"
     ]
    }
   ],
   "source": [
    "utils.intuition_test('trivan')"
   ]
  },
  {
   "cell_type": "code",
   "execution_count": 39,
   "id": "42fd7b29",
   "metadata": {},
   "outputs": [
    {
     "data": {
      "text/plain": [
       "True"
      ]
     },
     "execution_count": 39,
     "metadata": {},
     "output_type": "execute_result"
    }
   ],
   "source": [
    "import torch\n",
    "from torch.nn import functional as F\n",
    "torch.manual_seed(1111)\n",
    "\n",
    "B, T, C = 4, 8, 2\n",
    "x = torch.randn(B, T, C)\n",
    "\n",
    "# v1\n",
    "xbow = torch.zeros((B, T, C))\n",
    "for b in range (B):\n",
    "    for t in range (T):\n",
    "        xprev = x[b, :t + 1]\n",
    "        xbow[b, t] = torch.mean(xprev, 0)\n",
    "\n",
    "# v2\n",
    "wei = torch.tril(torch.ones(T, T))\n",
    "wei = wei / wei.sum(1, keepdim=True)\n",
    "xbow2 = wei @ x # (B, T, T) @ (B, T, C) -> (B, T, C)\n",
    "\n",
    "# v3\n",
    "tril = torch.tril(torch.ones(T, T))\n",
    "wei = torch.zeros((T, T))\n",
    "wei = wei.masked_fill(tril == 0, float('-inf'))\n",
    "wei = F.softmax(wei, dim=-1)\n",
    "xbow3 = wei @ x\n",
    "\n",
    "torch.allclose(xbow2, xbow3)"
   ]
  }
 ],
 "metadata": {
  "kernelspec": {
   "display_name": "Python 3",
   "language": "python",
   "name": "python3"
  },
  "language_info": {
   "codemirror_mode": {
    "name": "ipython",
    "version": 3
   },
   "file_extension": ".py",
   "mimetype": "text/x-python",
   "name": "python",
   "nbconvert_exporter": "python",
   "pygments_lexer": "ipython3",
   "version": "3.11.3"
  }
 },
 "nbformat": 4,
 "nbformat_minor": 5
}
