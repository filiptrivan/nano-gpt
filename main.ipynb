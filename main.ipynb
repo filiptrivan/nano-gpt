{
 "cells": [
  {
   "cell_type": "code",
   "execution_count": 1,
   "id": "9495e5b2",
   "metadata": {},
   "outputs": [
    {
     "name": "stdout",
     "output_type": "stream",
     "text": [
      "\t\n",
      " !\"#%&'()*+,-./0123456789:<=>?@ABCDEFGHIJKLMNOPQRSTUVWXYZ[\\]_abcdefghijklmnopqrstuvwxyz{}ĆćčđŠšžНУабвгдезиклмнопрстухчшђјњћ…⁠✋❤﻿🏻🏼🏽👋👌👍👽💪😀😂😃😍😟🙂🙌🙏🤑🤘🤙🤝🤢🤣🤮🥰🥷🥹🧠🫂🫶\n",
      "159\n",
      "Step 0: train loss 5.1426, val loss 5.1417\n",
      "Step 1000: train loss 1.8895, val loss 2.0326\n",
      "Step 2000: train loss 1.7344, val loss 1.9044\n",
      "Step 3000: train loss 1.6360, val loss 1.8200\n",
      "Step 4000: train loss 1.6293, val loss 1.7839\n",
      "Step 5000: train loss 1.6024, val loss 1.7520\n",
      "Step 6000: train loss 1.5735, val loss 1.7506\n",
      "Step 7000: train loss 1.5534, val loss 1.7281\n",
      "Step 8000: train loss 1.5480, val loss 1.7152\n",
      "Step 9000: train loss 1.5322, val loss 1.7291\n"
     ]
    }
   ],
   "source": [
    "import utils"
   ]
  },
  {
   "cell_type": "code",
   "execution_count": 18,
   "id": "f1fa2f11",
   "metadata": {},
   "outputs": [
    {
     "name": "stdout",
     "output_type": "stream",
     "text": [
      "ee brate\n",
      "[12/29/2021 9:54 PM] Filip Trivan: sisimo\n",
      "[7/17/202 2:19 AM] Aleksa Trivan: Stecebelike mali da ste\n"
     ]
    }
   ],
   "source": [
    "utils.intuition_test('ee brate')"
   ]
  },
  {
   "cell_type": "code",
   "execution_count": null,
   "id": "7153a6d7",
   "metadata": {},
   "outputs": [],
   "source": []
  },
  {
   "cell_type": "code",
   "execution_count": null,
   "id": "27694cdd",
   "metadata": {},
   "outputs": [],
   "source": []
  }
 ],
 "metadata": {
  "kernelspec": {
   "display_name": "Python 3",
   "language": "python",
   "name": "python3"
  },
  "language_info": {
   "codemirror_mode": {
    "name": "ipython",
    "version": 3
   },
   "file_extension": ".py",
   "mimetype": "text/x-python",
   "name": "python",
   "nbconvert_exporter": "python",
   "pygments_lexer": "ipython3",
   "version": "3.11.3"
  }
 },
 "nbformat": 4,
 "nbformat_minor": 5
}
