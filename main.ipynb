{
 "cells": [
  {
   "cell_type": "code",
   "execution_count": 1,
   "id": "9495e5b2",
   "metadata": {},
   "outputs": [
    {
     "name": "stdout",
     "output_type": "stream",
     "text": [
      "\t\n",
      " !\"#%&'()*+,-./0123456789:<=>?@ABCDEFGHIJKLMNOPQRSTUVWXYZ[\\]_abcdefghijklmnopqrstuvwxyz{}ĆćčđŠšžНУабвгдезиклмнопрстухчшђјњћ…⁠✋❤﻿🏻🏼🏽👋👌👍👽💪😀😂😃😍😟🙂🙌🙏🤑🤘🤙🤝🤢🤣🤮🥰🥷🥹🧠🫂🫶\n",
      "159\n",
      "Step 0: train loss 5.5599, val loss 5.5486\n",
      "Step 1000: train loss 4.2775, val loss 4.2967\n",
      "Step 2000: train loss 3.3423, val loss 3.4014\n",
      "Step 3000: train loss 2.7434, val loss 2.8484\n",
      "Step 4000: train loss 2.4238, val loss 2.5454\n",
      "Step 5000: train loss 2.2727, val loss 2.4024\n",
      "Step 6000: train loss 2.1916, val loss 2.3212\n",
      "Step 7000: train loss 2.1470, val loss 2.2895\n",
      "Step 8000: train loss 2.1150, val loss 2.2614\n",
      "Step 9000: train loss 2.1398, val loss 2.2525\n"
     ]
    }
   ],
   "source": [
    "import utils"
   ]
  },
  {
   "cell_type": "code",
   "execution_count": 19,
   "id": "f1fa2f11",
   "metadata": {},
   "outputs": [
    {
     "name": "stdout",
     "output_type": "stream",
     "text": [
      "e brateriva 3 o\n",
      "[1 ci 😂Jra brici Triva\n",
      "[9/23 dace Ale Alevam\n",
      "[4 👽sana 5 PM] AM] Trekod.\n",
      "[1/202/4 👍👍е\"\n",
      "[19:\n",
      "\n"
     ]
    }
   ],
   "source": [
    "utils.intuition_test('e brate')"
   ]
  }
 ],
 "metadata": {
  "kernelspec": {
   "display_name": "Python 3",
   "language": "python",
   "name": "python3"
  },
  "language_info": {
   "codemirror_mode": {
    "name": "ipython",
    "version": 3
   },
   "file_extension": ".py",
   "mimetype": "text/x-python",
   "name": "python",
   "nbconvert_exporter": "python",
   "pygments_lexer": "ipython3",
   "version": "3.11.3"
  }
 },
 "nbformat": 4,
 "nbformat_minor": 5
}
