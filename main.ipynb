{
 "cells": [
  {
   "cell_type": "code",
   "execution_count": 1,
   "id": "9495e5b2",
   "metadata": {},
   "outputs": [
    {
     "name": "stdout",
     "output_type": "stream",
     "text": [
      "\t\n",
      " !\"#%&'()*+,-./0123456789:<=>?@ABCDEFGHIJKLMNOPQRSTUVWXYZ[\\]_abcdefghijklmnopqrstuvwxyz{}ĆćčđŠšžНУабвгдезиклмнопрстухчшђјњћ…⁠✋❤﻿🏻🏼🏽👋👌👍👽💪😀😂😃😍😟🙂🙌🙏🤑🤘🤙🤝🤢🤣🤮🥰🥷🥹🧠🫂🫶\n",
      "159\n",
      "Step 0: train loss 5.4162, val loss 5.4183\n",
      "Step 1000: train loss 1.6744, val loss 1.8614\n",
      "Step 2000: train loss 1.5953, val loss 1.7532\n",
      "Step 3000: train loss 1.5668, val loss 1.7057\n",
      "Step 4000: train loss 1.5169, val loss 1.6890\n",
      "Step 5000: train loss 1.5025, val loss 1.6680\n",
      "Step 6000: train loss 1.4982, val loss 1.6675\n",
      "Step 7000: train loss 1.4742, val loss 1.6535\n",
      "Step 8000: train loss 1.4452, val loss 1.6646\n",
      "Step 9000: train loss 1.4857, val loss 1.6254\n"
     ]
    }
   ],
   "source": [
    "import utils"
   ]
  },
  {
   "cell_type": "code",
   "execution_count": 2,
   "id": "f1fa2f11",
   "metadata": {},
   "outputs": [
    {
     "name": "stdout",
     "output_type": "stream",
     "text": [
      "ee brate na sonj\n",
      "[12/27/2025 4:24 PM5 Filip Trivan: laceg\n",
      "[1-22/2025 5:51 PM] Aleksa Trivan: njiga tecmo imi\n"
     ]
    }
   ],
   "source": [
    "utils.intuition_test('ee brate')"
   ]
  },
  {
   "cell_type": "code",
   "execution_count": null,
   "id": "7153a6d7",
   "metadata": {},
   "outputs": [],
   "source": []
  },
  {
   "cell_type": "code",
   "execution_count": null,
   "id": "27694cdd",
   "metadata": {},
   "outputs": [],
   "source": []
  }
 ],
 "metadata": {
  "kernelspec": {
   "display_name": "Python 3",
   "language": "python",
   "name": "python3"
  },
  "language_info": {
   "codemirror_mode": {
    "name": "ipython",
    "version": 3
   },
   "file_extension": ".py",
   "mimetype": "text/x-python",
   "name": "python",
   "nbconvert_exporter": "python",
   "pygments_lexer": "ipython3",
   "version": "3.11.3"
  }
 },
 "nbformat": 4,
 "nbformat_minor": 5
}
